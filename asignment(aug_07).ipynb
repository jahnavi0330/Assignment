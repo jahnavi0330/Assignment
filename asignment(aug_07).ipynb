{
  "nbformat": 4,
  "nbformat_minor": 0,
  "metadata": {
    "colab": {
      "provenance": []
    },
    "kernelspec": {
      "name": "python3",
      "display_name": "Python 3"
    },
    "language_info": {
      "name": "python"
    }
  },
  "cells": [
    {
      "cell_type": "markdown",
      "source": [
        "**1 . Print the input text without vowels using List comprehensions**"
      ],
      "metadata": {
        "id": "TtGIzu0ADZ3L"
      }
    },
    {
      "cell_type": "code",
      "source": [
        "str1 = str(input())\n",
        "print(''.join([i for i in str1 if i not in \"AEIOUaeiou\"]))\n"
      ],
      "metadata": {
        "colab": {
          "base_uri": "https://localhost:8080/"
        },
        "id": "Ny30QUVmDXR8",
        "outputId": "d9b11221-c105-4a28-96d7-9572f5aa3681"
      },
      "execution_count": null,
      "outputs": [
        {
          "output_type": "stream",
          "name": "stdout",
          "text": [
            "hai\n",
            "h\n"
          ]
        }
      ]
    },
    {
      "cell_type": "markdown",
      "source": [
        "**2.Print only vowels from the text using List comprehensions**"
      ],
      "metadata": {
        "id": "Awcu2X5eF6n2"
      }
    },
    {
      "cell_type": "code",
      "source": [
        "str2 = str(input())\n",
        "print(''.join([i for i in str2 if i in \"AEIOUaeiou\"]))\n",
        "\n"
      ],
      "metadata": {
        "colab": {
          "base_uri": "https://localhost:8080/"
        },
        "id": "V8hbu6BCFzvo",
        "outputId": "55c8a73f-a57c-42c1-aa3e-cc3369d6ddec"
      },
      "execution_count": 3,
      "outputs": [
        {
          "output_type": "stream",
          "name": "stdout",
          "text": [
            "data\n",
            "aa\n"
          ]
        }
      ]
    },
    {
      "cell_type": "markdown",
      "source": [
        "**3.print each valu from the list with its index**"
      ],
      "metadata": {
        "id": "DfzrsTarLQLz"
      }
    },
    {
      "cell_type": "code",
      "source": [
        "l1=[10,11,50,34]\n",
        "l2=[]\n",
        "for i in l1:\n",
        "  p = str(i)+str(l1.index(i))\n",
        "  l2.append(int(p))\n",
        "print(l2)\n"
      ],
      "metadata": {
        "colab": {
          "base_uri": "https://localhost:8080/"
        },
        "id": "AL-N_lCaLPdR",
        "outputId": "14aa9237-661a-4b88-e731-ecfa9ede4e04"
      },
      "execution_count": 4,
      "outputs": [
        {
          "output_type": "stream",
          "name": "stdout",
          "text": [
            "[100, 111, 502, 343]\n"
          ]
        }
      ]
    },
    {
      "cell_type": "markdown",
      "source": [
        "**4.Write a Python Program to print all integers that aren’t divisible by either 2 or 3 and lies between 1 and 50**"
      ],
      "metadata": {
        "id": "6l4DDZq7M0Gc"
      }
    },
    {
      "cell_type": "code",
      "source": [
        "print(f'nums which are not divisible by either 2 or 3 are :')\n",
        "for i in range(1,50):\n",
        "  if i%2!=0 or i%3!=0:\n",
        "    print(i)"
      ],
      "metadata": {
        "colab": {
          "base_uri": "https://localhost:8080/"
        },
        "id": "k_ACPhZSMOkw",
        "outputId": "92be5d45-ee0f-4882-e6e3-307f4c46b5ce"
      },
      "execution_count": 5,
      "outputs": [
        {
          "output_type": "stream",
          "name": "stdout",
          "text": [
            "nums which are not divisible by either 2 or 3 are :\n",
            "1\n",
            "2\n",
            "3\n",
            "4\n",
            "5\n",
            "7\n",
            "8\n",
            "9\n",
            "10\n",
            "11\n",
            "13\n",
            "14\n",
            "15\n",
            "16\n",
            "17\n",
            "19\n",
            "20\n",
            "21\n",
            "22\n",
            "23\n",
            "25\n",
            "26\n",
            "27\n",
            "28\n",
            "29\n",
            "31\n",
            "32\n",
            "33\n",
            "34\n",
            "35\n",
            "37\n",
            "38\n",
            "39\n",
            "40\n",
            "41\n",
            "43\n",
            "44\n",
            "45\n",
            "46\n",
            "47\n",
            "49\n"
          ]
        }
      ]
    },
    {
      "cell_type": "markdown",
      "source": [
        "**5.The program takes in an integer and prints the smallest divisor of the integer**"
      ],
      "metadata": {
        "id": "Lhn5HYa1Nbkp"
      }
    },
    {
      "cell_type": "code",
      "source": [
        "x=int(input())\n",
        "l=[]\n",
        "for i in range(1,x):\n",
        "  if x%i==0:\n",
        "    l.append(i)\n",
        "sorted(l)\n",
        "print(f'smallest divisor other than 1 : {l[1]}')"
      ],
      "metadata": {
        "colab": {
          "base_uri": "https://localhost:8080/"
        },
        "id": "LilTw8SkNaiy",
        "outputId": "645f7f9d-3349-4b54-dac9-fb76910004ef"
      },
      "execution_count": 6,
      "outputs": [
        {
          "output_type": "stream",
          "name": "stdout",
          "text": [
            "21\n",
            "smallest divisor other than 1 : 3\n"
          ]
        }
      ]
    },
    {
      "cell_type": "markdown",
      "source": [
        "**6.Write a Python program to check if it is a strong number or not**"
      ],
      "metadata": {
        "id": "7veDJAJEPKhU"
      }
    },
    {
      "cell_type": "code",
      "source": [
        "def strong(y):\n",
        "  l=[]\n",
        "  s=0\n",
        "  for i in str(y):\n",
        "    l.append(int(i))\n",
        "    for j in l:\n",
        "      r=1\n",
        "      for m in range(1,j+1):\n",
        "        r*=m\n",
        "    s+=r\n",
        "  if s==y:\n",
        "    print(f\"{y} is a strong number\")\n",
        "  else:\n",
        "    print(f\"{y} is not a strong number\")\n",
        "strong(145)\n",
        "strong(146)\n",
        "\n",
        "\n",
        "\n",
        "\n",
        "\n",
        "\n",
        "\n",
        "\n"
      ],
      "metadata": {
        "colab": {
          "base_uri": "https://localhost:8080/"
        },
        "id": "wgwmpnMhPJxD",
        "outputId": "b7ecc8d5-8aa3-45e7-c58e-ece3bcbca187"
      },
      "execution_count": 7,
      "outputs": [
        {
          "output_type": "stream",
          "name": "stdout",
          "text": [
            "145 is a strong number\n",
            "146 is not a strong number\n"
          ]
        }
      ]
    },
    {
      "cell_type": "markdown",
      "source": [
        "**7.Write a Python program that takes input from the user and displays that input back in upper and lower cases**"
      ],
      "metadata": {
        "id": "t0_U6HZ6cFC-"
      }
    },
    {
      "cell_type": "code",
      "source": [
        "su = str(input())\n",
        "print(f'upper case:{su.upper()}')\n",
        "print(f'lower case:{su.lower()}')"
      ],
      "metadata": {
        "colab": {
          "base_uri": "https://localhost:8080/"
        },
        "id": "lz5SNr2nVF9Q",
        "outputId": "d8ad71e4-4b68-4730-b464-91bb660787eb"
      },
      "execution_count": 8,
      "outputs": [
        {
          "output_type": "stream",
          "name": "stdout",
          "text": [
            "Python program\n",
            "upper case:PYTHON PROGRAM\n",
            "lower case:python program\n"
          ]
        }
      ]
    },
    {
      "cell_type": "markdown",
      "source": [
        "**8.Write a Python program to remove spaces from a given string**"
      ],
      "metadata": {
        "id": "ywSUHMRlc_zg"
      }
    },
    {
      "cell_type": "code",
      "source": [
        "gs = str(input())\n",
        "fs = ''\n",
        "for i in gs:\n",
        "  if i!=\" \":\n",
        "    fs+=i\n",
        "print(f'after removing spaces : {fs}')"
      ],
      "metadata": {
        "colab": {
          "base_uri": "https://localhost:8080/"
        },
        "id": "luJ3kr9Fco_W",
        "outputId": "9e978157-75a3-4b6f-900e-61af320e544d"
      },
      "execution_count": 9,
      "outputs": [
        {
          "output_type": "stream",
          "name": "stdout",
          "text": [
            "united states\n",
            "after removing spaces : unitedstates\n"
          ]
        }
      ]
    },
    {
      "cell_type": "markdown",
      "source": [
        "**9.Write a Python program to capitalize first and last letters of each word of a given string**"
      ],
      "metadata": {
        "id": "VBJgTEv2esS3"
      }
    },
    {
      "cell_type": "code",
      "source": [
        "ps = \"Python program to capitalize first and last letters of each word of a given string\"\n",
        "lp = ps.split(' ')\n",
        "ls=[]\n",
        "for i in lp:\n",
        "  l=len(i)\n",
        "  i=i.capitalize()\n",
        "  i=i.replace(i[l-1],i[l-1].upper())\n",
        "  ls.append(i)\n",
        "print(' '.join(ls))\n",
        "\n",
        "\n"
      ],
      "metadata": {
        "colab": {
          "base_uri": "https://localhost:8080/"
        },
        "id": "wj1y13y6dcsN",
        "outputId": "e5d11d90-60ff-4182-fb54-6e1df302c208"
      },
      "execution_count": 10,
      "outputs": [
        {
          "output_type": "stream",
          "name": "stdout",
          "text": [
            "PythoN PrograM TO CapitalizE FirsT AnD LasT LetterS OF EacH WorD OF A GiveN StrinG\n"
          ]
        }
      ]
    },
    {
      "cell_type": "markdown",
      "source": [
        "**10.write a python program to find length of a string but should not use len keyword**"
      ],
      "metadata": {
        "id": "SwtnC5HEl5tb"
      }
    },
    {
      "cell_type": "code",
      "source": [
        "sr = str(input())\n",
        "s=0\n",
        "for i in sr:\n",
        "  s+=1\n",
        "print(s)"
      ],
      "metadata": {
        "colab": {
          "base_uri": "https://localhost:8080/"
        },
        "id": "OBhKiETkjK8j",
        "outputId": "01742e85-e681-46d0-fb9d-cb55ca03f8d1"
      },
      "execution_count": 11,
      "outputs": [
        {
          "output_type": "stream",
          "name": "stdout",
          "text": [
            "python program\n",
            "14\n"
          ]
        }
      ]
    },
    {
      "cell_type": "code",
      "source": [],
      "metadata": {
        "id": "Ub9cdppMmPK4"
      },
      "execution_count": null,
      "outputs": []
    }
  ]
}